{
 "cells": [
  {
   "cell_type": "code",
   "execution_count": 1,
   "metadata": {
    "collapsed": true
   },
   "outputs": [],
   "source": [
    "\n",
    "import findspark\n",
    "findspark.init()\n",
    "from pyspark.sql import SparkSession\n",
    "\n",
    "from pyspark.sql import SparkSession\n",
    "\n",
    "\n",
    "spark = SparkSession.builder.appName('core').getOrCreate()\n",
    "path = \"./statesCSV\""
   ]
  },
  {
   "cell_type": "code",
   "execution_count": 8,
   "outputs": [
    {
     "name": "stdout",
     "output_type": "stream",
     "text": [
      "1\n"
     ]
    }
   ],
   "source": [],
   "metadata": {
    "collapsed": false,
    "pycharm": {
     "name": "#%%\n"
    }
   }
  },
  {
   "cell_type": "markdown",
   "source": [],
   "metadata": {
    "collapsed": false
   }
  },
  {
   "cell_type": "code",
   "execution_count": 2,
   "outputs": [],
   "source": [
    "df=spark.read.csv(path+\"/totalStates.csv\",header=True,inferSchema=True)\n"
   ],
   "metadata": {
    "collapsed": false,
    "pycharm": {
     "name": "#%%\n"
    }
   }
  },
  {
   "cell_type": "code",
   "execution_count": 8,
   "outputs": [
    {
     "name": "stderr",
     "output_type": "stream",
     "text": [
      "\n",
      "KeyboardInterrupt\n",
      "\n"
     ]
    }
   ],
   "source": [
    "#df.filter(df[\"carbon_intensity\"]>200).show()\n",
    "\n",
    "max = df.agg({\"carbon_intensity\": \"max\"}).collect()[0][0]\n",
    "min = df.agg({\"carbon_intensity\": \"min\"}).collect()[0][0]\n",
    "\n",
    "df.describe().show()\n",
    "df.filter(df[\"carbon_intensity\"]==min).select(\"stato\").distinct().show()\n",
    "\n",
    "from datetime import datetime\n",
    "\n",
    "import time\n",
    "\n",
    "from pyspark.sql.functions import *\n",
    "\n",
    "\n",
    "def get_fascia_oraria(x):\n",
    "    print(x)\n",
    "    return x+\"a\"\n",
    "\n",
    "df = spark.read.csv(path + \"/totalStates.csv\", header=True, inferSchema=True)\n",
    "\n",
    "df=df.withColumn(\"fascia_oraria\",fascia_oraria(df[\"timestamp\"]))\n",
    "df2=df.select([unix_timestamp((\"timestamp\"), \"HH:mm dd-MM-yyyy\").alias(\"timestamp_inMillis\")])\n",
    "df2.show()\n",
    "#df3=df\n",
    "df3=df2.join(df)\n",
    "df3.show(300)\n",
    "\n",
    "print(min)\n",
    "print(max)"
   ],
   "metadata": {
    "collapsed": false,
    "pycharm": {
     "name": "#%%\n"
    }
   }
  },
  {
   "cell_type": "code",
   "execution_count": null,
   "outputs": [],
   "source": [],
   "metadata": {
    "collapsed": false,
    "pycharm": {
     "name": "#%%\n"
    }
   }
  }
 ],
 "metadata": {
  "kernelspec": {
   "display_name": "Python 3",
   "language": "python",
   "name": "python3"
  },
  "language_info": {
   "codemirror_mode": {
    "name": "ipython",
    "version": 2
   },
   "file_extension": ".py",
   "mimetype": "text/x-python",
   "name": "python",
   "nbconvert_exporter": "python",
   "pygments_lexer": "ipython2",
   "version": "2.7.6"
  }
 },
 "nbformat": 4,
 "nbformat_minor": 0
}